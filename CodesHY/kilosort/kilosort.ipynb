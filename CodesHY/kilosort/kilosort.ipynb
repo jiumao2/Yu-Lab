{
 "cells": [
  {
   "cell_type": "code",
   "execution_count": 28,
   "metadata": {},
   "outputs": [],
   "source": [
    "import matplotlib.pyplot as plt\n",
    "import spikeinterface\n",
    "import spikeinterface as si  # import core only\n",
    "import spikeinterface.extractors as se\n",
    "import spikeinterface.sorters as ss\n",
    "import spikeinterface.comparison as sc\n",
    "import spikeinterface.widgets as sw\n",
    "import numpy as np"
   ]
  },
  {
   "attachments": {},
   "cell_type": "markdown",
   "metadata": {},
   "source": [
    "If your data has more sessions, please modify the following code"
   ]
  },
  {
   "cell_type": "code",
   "execution_count": 29,
   "metadata": {},
   "outputs": [],
   "source": [
    "a = se.BlackrockRecordingExtractor(r'datafile001.ns6',stream_id='6',block_index=0)\n",
    "b = se.BlackrockRecordingExtractor(r'datafile002.ns6',stream_id='6',block_index=1)\n",
    "# c = se.BlackrockRecordingExtractor(r'datafile003.ns6',stream_id='6',block_index=2)\n",
    "\n",
    "a = a.channel_slice([str(i+1) for i in range(32)])\n",
    "b = b.channel_slice([str(i+1) for i in range(32)])\n",
    "# c = c.channel_slice([str(i+1) for i in range(32)])\n",
    "\n",
    "recording_list = [a,b]\n",
    "# recording_list = [a,b,c]"
   ]
  },
  {
   "cell_type": "code",
   "execution_count": 30,
   "metadata": {},
   "outputs": [
    {
     "name": "stdout",
     "output_type": "stream",
     "text": [
      "ConcatenateSegmentRecording: 32 channels - 1 segments - 30.0kHz - 3640.020s\n",
      "segment 0 num_samples 109200602\n"
     ]
    }
   ],
   "source": [
    "rec = si.concatenate_recordings(recording_list)\n",
    "print(rec)\n",
    "s = rec.get_num_samples(segment_index=0)\n",
    "print(f'segment {0} num_samples {s}')"
   ]
  },
  {
   "attachments": {},
   "cell_type": "markdown",
   "metadata": {},
   "source": [
    "Compute location of each recording site. If you are using a different probe, you should set the location of each recording site with your own code. "
   ]
  },
  {
   "cell_type": "code",
   "execution_count": 31,
   "metadata": {},
   "outputs": [
    {
     "name": "stdout",
     "output_type": "stream",
     "text": [
      "[  0.   3.   6.   9.  12.  15.  18.  21.  24.  27.  30.  33.  36.  39.\n",
      "  42.  45. 250. 253. 256. 259. 262. 265. 268. 271. 274. 277. 280. 283.\n",
      " 286. 289. 292. 295.]\n"
     ]
    },
    {
     "data": {
      "image/png": "[encoded data removed]",
      "text/plain": [
       "<Figure size 640x480 with 1 Axes>"
      ]
     },
     "metadata": {},
     "output_type": "display_data"
    }
   ],
   "source": [
    "dx = 3\n",
    "dy = 20\n",
    "P = 250\n",
    "\n",
    "x = np.zeros((32,))\n",
    "y = np.zeros((32,))\n",
    "x0 = 0\n",
    "y0 = 0\n",
    "for k in range(32):\n",
    "    x[k] = x0\n",
    "    y[k] = y0\n",
    "\n",
    "    if k == 15:\n",
    "        x0 = x[0] + P\n",
    "        y0 = y[0]\n",
    "    else:\n",
    "        x0 += dx \n",
    "        if k<7 or (k>=16 and k<23):\n",
    "            y0 += dy*2\n",
    "        elif k==7 or k==23:\n",
    "            y0 += dy\n",
    "        elif (k>7 and k<=15) or (k>23 and k<=31):\n",
    "            y0 -=dy*2\n",
    "\n",
    "location = np.transpose(np.array([x,y]))\n",
    "\n",
    "idx_raw = [29,27,30,24,31,21,17,19,18,32,20,22,23,25,26,28,3,5,4,10,1,11,15,13,16,2,14,12,9,7,8,6]\n",
    "idx = np.argsort(idx_raw)\n",
    "location = location[idx,:]\n",
    "\n",
    "plt.plot(location[:,0],location[:,1],'x')\n",
    "for i in range(len(idx)):\n",
    "    plt.annotate(str(i+1), xy = (location[i,0], location[i,1]), xytext = (location[i,0]+0.1, location[i,1]+0.1))\n",
    "plt.gca().invert_yaxis()\n",
    "plt.xlabel('x')\n",
    "plt.ylabel('depth')\n",
    "plt.show()\n",
    "\n",
    "        \n",
    "    "
   ]
  },
  {
   "cell_type": "code",
   "execution_count": 32,
   "metadata": {},
   "outputs": [],
   "source": [
    "rec.set_channel_locations(location)"
   ]
  },
  {
   "attachments": {},
   "cell_type": "markdown",
   "metadata": {},
   "source": [
    "Change the code that refers to the path of kilosort"
   ]
  },
  {
   "cell_type": "code",
   "execution_count": 33,
   "metadata": {},
   "outputs": [
    {
     "name": "stdout",
     "output_type": "stream",
     "text": [
      "Setting KILOSORT3_PATH environment variable for subprocess calls to: C:\\Users\\jiumao\\Desktop\\KiloSort\n",
      "Setting KILOSORT2_5_PATH environment variable for subprocess calls to: C:\\Users\\jiumao\\Desktop\\Kilosort_2_5\n"
     ]
    }
   ],
   "source": [
    "ss.Kilosort3Sorter.set_kilosort3_path(r'C:/Users/jiumao/Desktop/Kilosort')\n",
    "ss.Kilosort2_5Sorter.set_kilosort2_5_path(r'C:/Users/jiumao/Desktop/Kilosort_2_5')"
   ]
  },
  {
   "attachments": {},
   "cell_type": "markdown",
   "metadata": {},
   "source": [
    "Choose which version of kilosort you want to use. Kilosort2.5 has 'Feature view' in phy while Kilosort3 does not."
   ]
  },
  {
   "cell_type": "code",
   "execution_count": 71,
   "metadata": {},
   "outputs": [
    {
     "name": "stdout",
     "output_type": "stream",
     "text": [
      "RUNNING SHELL SCRIPT: C:\\Users\\jiumao\\AppData\\Local\\Temp\\tmp_shellscriptktk5asst\\script.bat\n",
      "RUNNING SHELL SCRIPT: C:\\Users\\jiumao\\AppData\\Local\\Temp\\tmp_shellscripta32h_dep\\script.bat\n",
      "RUNNING SHELL SCRIPT: C:\\Users\\jiumao\\AppData\\Local\\Temp\\tmp_shellscriptbxl24o_s\\script.bat\n",
      "RUNNING SHELL SCRIPT: c:\\Users\\jiumao\\Desktop\\20230103\\kilosort3_output\\run_kilosort3.bat\n"
     ]
    }
   ],
   "source": [
    "output = ss.run_kilosort2_5(rec)\n",
    "# output = ss.run_kilosort3(rec)"
   ]
  }
 ],
 "metadata": {
  "kernelspec": {
   "display_name": "phy",
   "language": "python",
   "name": "python3"
  },
  "language_info": {
   "codemirror_mode": {
    "name": "ipython",
    "version": 3
   },
   "file_extension": ".py",
   "mimetype": "text/x-python",
   "name": "python",
   "nbconvert_exporter": "python",
   "pygments_lexer": "ipython3",
   "version": "3.8.15 (default, Nov 24 2022, 14:38:14) [MSC v.1916 64 bit (AMD64)]"
  },
  "orig_nbformat": 4,
  "vscode": {
   "interpreter": {
    "hash": "1ebdafc0930d1911ff8d65606ec1a53403ab87a991e9ec47a9a423397e90667c"
   }
  }
 },
 "nbformat": 4,
 "nbformat_minor": 2
}
