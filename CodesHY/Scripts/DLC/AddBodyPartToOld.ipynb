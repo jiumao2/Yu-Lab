{
 "cells": [
  {
   "cell_type": "code",
   "execution_count": 13,
   "metadata": {},
   "outputs": [],
   "source": [
    "import pandas as pd\n",
    "import os\n",
    "import numpy as np"
   ]
  },
  {
   "cell_type": "code",
   "execution_count": 14,
   "metadata": {},
   "outputs": [],
   "source": [
    "dir_names = os.listdir('labeled-data')\n",
    "experimentor = 'HY'"
   ]
  },
  {
   "cell_type": "code",
   "execution_count": 15,
   "metadata": {},
   "outputs": [],
   "source": [
    "new_bodyparts = ['screw']"
   ]
  },
  {
   "cell_type": "code",
   "execution_count": null,
   "metadata": {},
   "outputs": [
    {
     "name": "stdout",
     "output_type": "stream",
     "text": [
      "scorer                            HY                                      \\\n",
      "bodyparts                   left_ear               right_ear               \n",
      "coords                             x           y           x           y   \n",
      "labeled-data All 000.png  127.468621  192.819538  217.594826  148.016916   \n",
      "                 006.png  164.456832  278.778057  209.259457  198.029149   \n",
      "                 012.png   89.438491  102.172376  178.522774   68.309929   \n",
      "                 014.png  242.864873  105.529970  318.870270  175.201584   \n",
      "                 015.png  365.581921  118.197537  401.209450  208.453946   \n",
      "...                              ...         ...         ...         ...   \n",
      "                 860.png  744.025454  301.877243  725.815828  395.300544   \n",
      "                 861.png  705.231033  199.744991  660.102828  288.417954   \n",
      "                 862.png  557.970576  163.325738  548.469901  258.332484   \n",
      "                 863.png  687.813129  217.162894  645.060093  314.544809   \n",
      "                 866.png  747.984069  300.293797  723.440659  396.883989   \n",
      "\n",
      "scorer                                                      \n",
      "bodyparts                       tail             screw      \n",
      "coords                             x           y     x   y  \n",
      "labeled-data All 000.png  430.667761  438.192038   NaN NaN  \n",
      "                 006.png  460.883485  429.856670   NaN NaN  \n",
      "                 012.png  357.212302  435.066277   NaN NaN  \n",
      "                 014.png  341.038511  472.097667   NaN NaN  \n",
      "                 015.png  324.412331  460.221823   NaN NaN  \n",
      "...                              ...         ...   ...  ..  \n",
      "                 860.png  356.872963  255.165593   NaN NaN  \n",
      "                 861.png  278.492397  232.997352   NaN NaN  \n",
      "                 862.png  256.324156  408.759833   NaN NaN  \n",
      "                 863.png  257.115879  271.000051   NaN NaN  \n",
      "                 866.png  373.499143  186.285702   NaN NaN  \n",
      "\n",
      "[287 rows x 8 columns]\n"
     ]
    }
   ],
   "source": [
    "for dir_name in dir_names:\n",
    "    h5_filename = os.path.join('labeled-data',dir_name,'CollectedData_'+experimentor+'.h5')\n",
    "    csv_filename = h5_filename[:-2]+'csv'\n",
    "    df = pd.read_hdf(h5_filename)\n",
    "\n",
    "    for bodypart in new_bodyparts:\n",
    "        df[(experimentor, bodypart, 'x')] = np.nan\n",
    "        df[(experimentor, bodypart, 'y')] = np.nan\n",
    "\n",
    "    print(df)\n",
    "    df.to_csv(csv_filename)\n",
    "    df.to_hdf(h5_filename,'df_with_missing',mode='w')\n"
   ]
  }
 ],
 "metadata": {
  "kernelspec": {
   "display_name": "deeplabcut",
   "language": "python",
   "name": "python3"
  },
  "language_info": {
   "codemirror_mode": {
    "name": "ipython",
    "version": 3
   },
   "file_extension": ".py",
   "mimetype": "text/x-python",
   "name": "python",
   "nbconvert_exporter": "python",
   "pygments_lexer": "ipython3",
   "version": "3.8.15"
  },
  "orig_nbformat": 4,
  "vscode": {
   "interpreter": {
    "hash": "66a7c878d94c3fd4105b532f8439f59939ad21c5eea838289f5157530237b1ea"
   }
  }
 },
 "nbformat": 4,
 "nbformat_minor": 2
}
