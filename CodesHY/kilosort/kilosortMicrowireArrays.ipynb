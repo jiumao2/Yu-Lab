{
 "cells": [
  {
   "cell_type": "code",
   "execution_count": 1,
   "metadata": {},
   "outputs": [],
   "source": [
    "import matplotlib.pyplot as plt\n",
    "import spikeinterface\n",
    "import spikeinterface as si  # import core only\n",
    "import spikeinterface.extractors as se\n",
    "import spikeinterface.sorters as ss\n",
    "import spikeinterface.comparison as sc\n",
    "import spikeinterface.widgets as sw\n",
    "import numpy as np\n",
    "import os"
   ]
  },
  {
   "cell_type": "code",
   "execution_count": 2,
   "metadata": {},
   "outputs": [
    {
     "name": "stdout",
     "output_type": "stream",
     "text": [
      "Block index: []\n"
     ]
    }
   ],
   "source": [
    "block_index = []\n",
    "output = os.listdir(os.getcwd())\n",
    "for file in output:\n",
    "    if file.endswith('.ns6'):\n",
    "        print('Find ns6 file:', file[-7:-4])\n",
    "        block_index.append(int(file[-7:-4]))\n",
    "\n",
    "block_index.sort()\n",
    "print('Block index:', block_index)\n",
    "\n",
    "recording_list = []\n",
    "\n",
    "for k in range(len(block_index)):\n",
    "    recording = se.BlackrockRecordingExtractor(r'datafile00'+str(block_index[k])+'.ns6',stream_id='6',block_index=k)\n",
    "    recording = recording.channel_slice([str(i+1) for i in range(32)])\n",
    "    recording_list.append(recording)\n",
    "\n",
    "    print(recording.get_num_samples())"
   ]
  },
  {
   "cell_type": "code",
   "execution_count": null,
   "metadata": {},
   "outputs": [],
   "source": [
    "# Data lengths here/in BlackRock/After Kilosort are different. It is possibly caused by zero-padding.\n",
    "temp = recording_list[0].frame_slice(0,100)\n",
    "temp = temp.get_traces()\n",
    "temp = temp[:,0]\n",
    "print(temp)\n",
    "plt.plot(temp)\n",
    "plt.show()"
   ]
  },
  {
   "cell_type": "code",
   "execution_count": null,
   "metadata": {},
   "outputs": [],
   "source": [
    "rec = si.concatenate_recordings(recording_list)\n",
    "print(rec)\n",
    "s = rec.get_num_samples(segment_index=0)\n",
    "print(f'segment {0} num_samples {s}')"
   ]
  },
  {
   "cell_type": "code",
   "execution_count": 9,
   "metadata": {},
   "outputs": [
    {
     "data": {
      "image/png": "[encoded data removed]",
      "text/plain": [
       "<Figure size 640x480 with 1 Axes>"
      ]
     },
     "metadata": {},
     "output_type": "display_data"
    }
   ],
   "source": [
    "# compute location of microwire arrays\n",
    "space_between_wires = 250\n",
    "NChannels = 32\n",
    "\n",
    "location = np.zeros((NChannels, 2))\n",
    "for i in range(8):\n",
    "    location[i*2, :] = [0, i * space_between_wires]\n",
    "    location[i*2+1, :] = [250, i * space_between_wires]\n",
    "    location[i*2+16, :] = [500, i * space_between_wires]\n",
    "    location[i*2+17, :] = [750, i * space_between_wires]\n",
    "\n",
    "plt.figure()\n",
    "plt.plot(location[:, 0], location[:, 1], 'o')\n",
    "for i in range(NChannels):\n",
    "    plt.annotate(str(i+1), xy = (location[i,0], location[i,1]), xytext = (location[i,0]+10, location[i,1]+10))\n",
    "plt.show()"
   ]
  },
  {
   "cell_type": "code",
   "execution_count": null,
   "metadata": {},
   "outputs": [],
   "source": [
    "rec.set_channel_locations(location)"
   ]
  },
  {
   "cell_type": "code",
   "execution_count": 2,
   "metadata": {},
   "outputs": [
    {
     "name": "stdout",
     "output_type": "stream",
     "text": [
      "{'detect_threshold': 6, 'projection_threshold': [10, 4], 'preclust_threshold': 8, 'car': True, 'minFR': 0.1, 'minfr_goodchannels': 0, 'nblocks': 0, 'sig': 20, 'freq_min': 150, 'sigmaMask': 30, 'nPCs': 3, 'ntbuff': 64, 'nfilt_factor': 4, 'NT': None, 'do_correction': True, 'wave_length': 61, 'keep_good_only': False, 'n_jobs': 1, 'total_memory': None, 'chunk_size': None, 'chunk_memory': None, 'chunk_duration': '1s', 'progress_bar': True}\n"
     ]
    }
   ],
   "source": [
    "# sorted_params = ss.Kilosort2Sorter.default_params()\n",
    "# sorted_params['minfr_goodchannels'] = 0\n",
    "# print(sorted_params)\n",
    "\n",
    "sorted_params = ss.Kilosort2_5Sorter.default_params()\n",
    "sorted_params['minfr_goodchannels'] = 0\n",
    "sorted_params['nblocks'] = 0\n",
    "print(sorted_params)"
   ]
  },
  {
   "cell_type": "code",
   "execution_count": null,
   "metadata": {},
   "outputs": [],
   "source": [
    "# Change the Kilosort path when using different computers\n",
    "ss.Kilosort3Sorter.set_kilosort3_path(r'C:/Users/jiumao/Desktop/KiloSort')\n",
    "ss.Kilosort2_5Sorter.set_kilosort2_5_path(r'C:/Users/jiumao/Desktop/Kilosort_2_5')\n",
    "ss.Kilosort2Sorter.set_kilosort2_path(r'C:/Users/jiumao/Desktop/Kilosort_2')"
   ]
  },
  {
   "cell_type": "code",
   "execution_count": null,
   "metadata": {},
   "outputs": [],
   "source": [
    "# output = ss.run_kilosort2(rec,**sorted_params)\n",
    "output = ss.run_kilosort2_5(rec,**sorted_params)\n",
    "# output = ss.run_kilosort3(rec,**sorted_params)"
   ]
  },
  {
   "cell_type": "code",
   "execution_count": null,
   "metadata": {},
   "outputs": [],
   "source": []
  }
 ],
 "metadata": {
  "kernelspec": {
   "display_name": "Python 3 (ipykernel)",
   "language": "python",
   "name": "python3"
  },
  "language_info": {
   "codemirror_mode": {
    "name": "ipython",
    "version": 3
   },
   "file_extension": ".py",
   "mimetype": "text/x-python",
   "name": "python",
   "nbconvert_exporter": "python",
   "pygments_lexer": "ipython3",
   "version": "3.8.16"
  },
  "vscode": {
   "interpreter": {
    "hash": "1ebdafc0930d1911ff8d65606ec1a53403ab87a991e9ec47a9a423397e90667c"
   }
  }
 },
 "nbformat": 4,
 "nbformat_minor": 2
}
