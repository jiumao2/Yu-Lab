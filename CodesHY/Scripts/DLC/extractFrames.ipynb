{
 "cells": [
  {
   "cell_type": "code",
   "execution_count": 7,
   "metadata": {},
   "outputs": [],
   "source": [
    "import cv2\n",
    "import os"
   ]
  },
  {
   "cell_type": "code",
   "execution_count": 12,
   "metadata": {},
   "outputs": [
    {
     "name": "stdout",
     "output_type": "stream",
     "text": [
      "['Press001.avi', 'Press004.avi', 'Press006.avi', 'Press013.avi', 'Press028.avi', 'Press031.avi', 'Press036.avi', 'Press045.avi', 'Press046.avi', 'Press049.avi', 'Press067.avi', 'Press073.avi', 'Press081.avi', 'Press084.avi', 'Press091.avi', 'Press097.avi', 'Press112.avi', 'Press123.avi', 'Press124.avi', 'Press126.avi', 'Press139.avi', 'Press148.avi', 'Press163.avi', 'Press165.avi', 'Press166.avi', 'Press169.avi', 'Press185.avi', 'Press187.avi', 'Press193.avi', 'Press198.avi', 'Press204.avi', 'Press214.avi', 'Press238.avi', 'Press243.avi', 'Press257.avi', 'Press280.avi', 'Press281.avi', 'Press305.avi', 'Press319.avi', 'Press364.avi']\n"
     ]
    }
   ],
   "source": [
    "videos = os.listdir('videos')\n",
    "print(videos)\n",
    "\n",
    "dir_out = 'labeled-data/All/'\n",
    "if not os.path.isdir(dir_out):\n",
    "    os.makedirs(dir_out)"
   ]
  },
  {
   "cell_type": "code",
   "execution_count": 13,
   "metadata": {},
   "outputs": [],
   "source": [
    "frame_range1 = [100, 210]\n",
    "frame_range2 = [350, 400]\n",
    "frame_interval = 10\n",
    "\n",
    "img_count = 0 # count the number of images\n",
    "interval_count = 0\n",
    "for video in videos:\n",
    "    if not video.endswith('.avi'):\n",
    "        continue\n",
    "\n",
    "    cap = cv2.VideoCapture('videos/' + video)\n",
    "    frame_count = 0\n",
    "    \n",
    "    while True:\n",
    "        ret, frame = cap.read()\n",
    "        if not ret:\n",
    "            break\n",
    "        \n",
    "        frame_count += 1\n",
    "        if (frame_count >= frame_range1[0] and frame_count <= frame_range1[1]) or (frame_count >= frame_range2[0] and frame_count <= frame_range2[1]):\n",
    "            interval_count += 1\n",
    "            if interval_count % frame_interval == 0:\n",
    "                cv2.imwrite(os.path.join(dir_out, '%03d.png' % img_count), frame)\n",
    "                img_count += 1\n",
    "    \n",
    "    cap.release()\n",
    "\n",
    "\n"
   ]
  }
 ],
 "metadata": {
  "kernelspec": {
   "display_name": "deeplabcut",
   "language": "python",
   "name": "python3"
  },
  "language_info": {
   "codemirror_mode": {
    "name": "ipython",
    "version": 3
   },
   "file_extension": ".py",
   "mimetype": "text/x-python",
   "name": "python",
   "nbconvert_exporter": "python",
   "pygments_lexer": "ipython3",
   "version": "3.8.15"
  },
  "orig_nbformat": 4
 },
 "nbformat": 4,
 "nbformat_minor": 2
}
