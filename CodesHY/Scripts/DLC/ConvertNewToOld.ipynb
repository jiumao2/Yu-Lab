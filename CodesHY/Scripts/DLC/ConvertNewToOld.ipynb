{
 "cells": [
  {
   "cell_type": "code",
   "execution_count": 97,
   "metadata": {},
   "outputs": [],
   "source": [
    "import pandas as pd\n",
    "import os"
   ]
  },
  {
   "cell_type": "code",
   "execution_count": 98,
   "metadata": {},
   "outputs": [],
   "source": [
    "dir_names = os.listdir('labeled-data')\n",
    "experimentor = 'HY'"
   ]
  },
  {
   "cell_type": "code",
   "execution_count": 99,
   "metadata": {},
   "outputs": [],
   "source": [
    "for dir_name in dir_names:\n",
    "    h5_filename = os.path.join('labeled-data',dir_name,'CollectedData_'+experimentor+'.h5')\n",
    "    csv_filename = h5_filename[:-2]+'csv'\n",
    "    df = pd.read_hdf(h5_filename)\n",
    "    \n",
    "    idx = df.index\n",
    "    if len(idx)==0 or (not isinstance(idx[0],tuple)):\n",
    "        continue\n",
    "    \n",
    "    print(csv_filename)\n",
    "    idx_new = []\n",
    "    for k in range(len(idx)):\n",
    "        a,b,c = idx[k]\n",
    "        d = a + '\\\\' + b + '\\\\' + c\n",
    "        idx_new.append(d)\n",
    "        \n",
    "    df.index = idx_new\n",
    "    df.to_csv(csv_filename)\n",
    "    df.to_hdf(h5_filename,'df_with_missing',mode='w')\n",
    "    df.to_csv('test.csv')\n",
    "    df.to_hdf('test.h5','df_with_missing',mode='w')"
   ]
  }
 ],
 "metadata": {
  "kernelspec": {
   "display_name": "deeplabcut",
   "language": "python",
   "name": "python3"
  },
  "language_info": {
   "codemirror_mode": {
    "name": "ipython",
    "version": 3
   },
   "file_extension": ".py",
   "mimetype": "text/x-python",
   "name": "python",
   "nbconvert_exporter": "python",
   "pygments_lexer": "ipython3",
   "version": "3.8.15"
  },
  "orig_nbformat": 4,
  "vscode": {
   "interpreter": {
    "hash": "66a7c878d94c3fd4105b532f8439f59939ad21c5eea838289f5157530237b1ea"
   }
  }
 },
 "nbformat": 4,
 "nbformat_minor": 2
}
