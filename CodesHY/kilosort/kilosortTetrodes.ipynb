{
 "cells": [
  {
   "cell_type": "code",
   "execution_count": null,
   "metadata": {},
   "outputs": [],
   "source": [
    "import matplotlib.pyplot as plt\n",
    "import spikeinterface\n",
    "import spikeinterface as si  # import core only\n",
    "import spikeinterface.extractors as se\n",
    "import spikeinterface.sorters as ss\n",
    "import spikeinterface.comparison as sc\n",
    "import spikeinterface.widgets as sw\n",
    "import numpy as np\n",
    "import os"
   ]
  },
  {
   "cell_type": "code",
   "execution_count": null,
   "metadata": {},
   "outputs": [],
   "source": [
    "block_index = []\n",
    "output = os.listdir(os.getcwd())\n",
    "for file in output:\n",
    "    if file.endswith('.ns6'):\n",
    "        print('Find ns6 file:', file[-7:-4])\n",
    "        block_index.append(int(file[-7:-4]))\n",
    "\n",
    "block_index.sort()\n",
    "print('Block index:', block_index)\n",
    "\n",
    "recording_list = []\n",
    "\n",
    "for k in range(len(block_index)):\n",
    "    recording = se.BlackrockRecordingExtractor(r'datafile00'+str(block_index[k])+'.ns6',stream_id='6',block_index=k)\n",
    "    recording = recording.channel_slice([str(i+1) for i in range(32)])\n",
    "    recording_list.append(recording)\n",
    "\n",
    "    print(recording.get_num_samples())"
   ]
  },
  {
   "cell_type": "code",
   "execution_count": null,
   "metadata": {},
   "outputs": [],
   "source": [
    "# Data lengths here/in BlackRock/After Kilosort are different. It is possibly caused by zero-padding.\n",
    "temp = recording_list[0].frame_slice(0,100)\n",
    "temp = temp.get_traces()\n",
    "temp = temp[:,0]\n",
    "print(temp)\n",
    "plt.plot(temp)\n",
    "plt.show()"
   ]
  },
  {
   "cell_type": "code",
   "execution_count": null,
   "metadata": {},
   "outputs": [],
   "source": [
    "rec = si.concatenate_recordings(recording_list)\n",
    "print(rec)\n",
    "s = rec.get_num_samples(segment_index=0)\n",
    "print(f'segment {0} num_samples {s}')"
   ]
  },
  {
   "cell_type": "code",
   "execution_count": null,
   "metadata": {},
   "outputs": [],
   "source": [
    "# compute location of tetrodes\n",
    "# Assume different tetrodes records different neurons and act separately\n",
    "space_between_tetrodes = 10000\n",
    "space_within_tetrodes = 1\n",
    "NChannels = 32\n",
    "TetrodesMap = [[1,3,5,7],[2,4,6,8],[9,11,13,15],[10,12,14,16],[17,19,21,23],[18,20,22,24],[25,27,29,31],[26,28,30,32]]\n",
    "\n",
    "location = np.zeros((NChannels, 2))\n",
    "for group_id, tetrode in enumerate(TetrodesMap):\n",
    "    for channel_id, channel in enumerate(tetrode):\n",
    "        location[channel-1, 0] = (channel_id+1) * space_within_tetrodes\n",
    "        location[channel-1, 1] = (group_id+1) * space_between_tetrodes\n",
    "        print(channel, location[channel-1,:])\n",
    "\n",
    "print(location)"
   ]
  },
  {
   "cell_type": "code",
   "execution_count": null,
   "metadata": {},
   "outputs": [],
   "source": [
    "rec.set_channel_locations(location)"
   ]
  },
  {
   "cell_type": "code",
   "execution_count": null,
   "metadata": {},
   "outputs": [],
   "source": [
    "# sorted_params = ss.Kilosort2Sorter.default_params()\n",
    "# sorted_params['minfr_goodchannels'] = 0\n",
    "# print(sorted_params)\n",
    "\n",
    "sorted_params = ss.Kilosort2_5Sorter.default_params()\n",
    "sorted_params['minfr_goodchannels'] = 0\n",
    "sorted_params['nblocks'] = 0\n",
    "print(sorted_params)"
   ]
  },
  {
   "cell_type": "code",
   "execution_count": null,
   "metadata": {},
   "outputs": [],
   "source": [
    "ss.Kilosort3Sorter.set_kilosort3_path(r'C:/Users/jiumao/Desktop/KiloSort')\n",
    "ss.Kilosort2_5Sorter.set_kilosort2_5_path(r'C:/Users/jiumao/Desktop/Kilosort_2_5')\n",
    "ss.Kilosort2Sorter.set_kilosort2_path(r'C:/Users/jiumao/Desktop/Kilosort_2')"
   ]
  },
  {
   "cell_type": "code",
   "execution_count": null,
   "metadata": {},
   "outputs": [],
   "source": [
    "# output = ss.run_kilosort2(rec,**sorted_params)\n",
    "output = ss.run_kilosort2_5(rec,**sorted_params)\n",
    "# output = ss.run_kilosort3(rec,**sorted_params)"
   ]
  },
  {
   "cell_type": "code",
   "execution_count": null,
   "metadata": {},
   "outputs": [],
   "source": []
  }
 ],
 "metadata": {
  "kernelspec": {
   "display_name": "Python 3 (ipykernel)",
   "language": "python",
   "name": "python3"
  },
  "language_info": {
   "codemirror_mode": {
    "name": "ipython",
    "version": 3
   },
   "file_extension": ".py",
   "mimetype": "text/x-python",
   "name": "python",
   "nbconvert_exporter": "python",
   "pygments_lexer": "ipython3",
   "version": "3.8.16"
  },
  "vscode": {
   "interpreter": {
    "hash": "1ebdafc0930d1911ff8d65606ec1a53403ab87a991e9ec47a9a423397e90667c"
   }
  }
 },
 "nbformat": 4,
 "nbformat_minor": 2
}
